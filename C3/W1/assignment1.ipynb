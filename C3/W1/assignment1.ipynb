{
 "cells": [
  {
   "cell_type": "code",
   "execution_count": 1,
   "metadata": {},
   "outputs": [],
   "source": [
    "import pandas as pd\n",
    "from sklearn.cluster import MeanShift"
   ]
  },
  {
   "cell_type": "code",
   "execution_count": 2,
   "metadata": {},
   "outputs": [
    {
     "name": "stdout",
     "output_type": "stream",
     "text": [
      "---------+---------+----------+-------------------+-------------------+---------------------\n",
      "\n",
      "(1021966 rows)\n",
      "\n",
      "\n",
      "\n"
     ]
    }
   ],
   "source": [
    "lines = []\n",
    "data = []\n",
    "\n",
    "with open('checkins.dat') as input_file:\n",
    "    columns = list(map(lambda x: x.strip(), input_file.readline().strip().split('|')))\n",
    "    n_params = len(columns)\n",
    "    for line in input_file:\n",
    "        items = list(map(lambda x: x.strip(), line.strip().split('|')))\n",
    "        if len(items) != n_params:\n",
    "            print(line)\n",
    "        else:\n",
    "            data.append(items)"
   ]
  },
  {
   "cell_type": "code",
   "execution_count": 3,
   "metadata": {},
   "outputs": [
    {
     "data": {
      "text/html": [
       "<div>\n",
       "<style scoped>\n",
       "    .dataframe tbody tr th:only-of-type {\n",
       "        vertical-align: middle;\n",
       "    }\n",
       "\n",
       "    .dataframe tbody tr th {\n",
       "        vertical-align: top;\n",
       "    }\n",
       "\n",
       "    .dataframe thead th {\n",
       "        text-align: right;\n",
       "    }\n",
       "</style>\n",
       "<table border=\"1\" class=\"dataframe\">\n",
       "  <thead>\n",
       "    <tr style=\"text-align: right;\">\n",
       "      <th></th>\n",
       "      <th>id</th>\n",
       "      <th>user_id</th>\n",
       "      <th>venue_id</th>\n",
       "      <th>latitude</th>\n",
       "      <th>longitude</th>\n",
       "      <th>created_at</th>\n",
       "    </tr>\n",
       "  </thead>\n",
       "  <tbody>\n",
       "    <tr>\n",
       "      <td>1</td>\n",
       "      <td>984222</td>\n",
       "      <td>15824</td>\n",
       "      <td>5222</td>\n",
       "      <td>38.8951118</td>\n",
       "      <td>-77.0363658</td>\n",
       "      <td>2012-04-21 17:43:47</td>\n",
       "    </tr>\n",
       "    <tr>\n",
       "      <td>3</td>\n",
       "      <td>984234</td>\n",
       "      <td>44652</td>\n",
       "      <td>5222</td>\n",
       "      <td>33.800745</td>\n",
       "      <td>-84.41052</td>\n",
       "      <td>2012-04-21 17:43:43</td>\n",
       "    </tr>\n",
       "    <tr>\n",
       "      <td>7</td>\n",
       "      <td>984291</td>\n",
       "      <td>105054</td>\n",
       "      <td>5222</td>\n",
       "      <td>45.5234515</td>\n",
       "      <td>-122.6762071</td>\n",
       "      <td>2012-04-21 17:39:22</td>\n",
       "    </tr>\n",
       "    <tr>\n",
       "      <td>9</td>\n",
       "      <td>984318</td>\n",
       "      <td>2146539</td>\n",
       "      <td>5222</td>\n",
       "      <td>40.764462</td>\n",
       "      <td>-111.904565</td>\n",
       "      <td>2012-04-21 17:35:46</td>\n",
       "    </tr>\n",
       "    <tr>\n",
       "      <td>10</td>\n",
       "      <td>984232</td>\n",
       "      <td>93870</td>\n",
       "      <td>380645</td>\n",
       "      <td>33.4483771</td>\n",
       "      <td>-112.0740373</td>\n",
       "      <td>2012-04-21 17:38:18</td>\n",
       "    </tr>\n",
       "  </tbody>\n",
       "</table>\n",
       "</div>"
      ],
      "text/plain": [
       "        id  user_id venue_id    latitude     longitude           created_at\n",
       "1   984222    15824     5222  38.8951118   -77.0363658  2012-04-21 17:43:47\n",
       "3   984234    44652     5222   33.800745     -84.41052  2012-04-21 17:43:43\n",
       "7   984291   105054     5222  45.5234515  -122.6762071  2012-04-21 17:39:22\n",
       "9   984318  2146539     5222   40.764462   -111.904565  2012-04-21 17:35:46\n",
       "10  984232    93870   380645  33.4483771  -112.0740373  2012-04-21 17:38:18"
      ]
     },
     "execution_count": 3,
     "metadata": {},
     "output_type": "execute_result"
    }
   ],
   "source": [
    "df = pd.DataFrame(data)\n",
    "df.columns = columns\n",
    "df = df[(df.latitude != '') & (df.longitude != '')]\n",
    "df.head()"
   ]
  },
  {
   "cell_type": "code",
   "execution_count": 4,
   "metadata": {},
   "outputs": [
    {
     "data": {
      "text/plain": [
       "(396634, 6)"
      ]
     },
     "execution_count": 4,
     "metadata": {},
     "output_type": "execute_result"
    }
   ],
   "source": [
    "df.shape"
   ]
  },
  {
   "cell_type": "code",
   "execution_count": 5,
   "metadata": {},
   "outputs": [],
   "source": [
    "data = df[['latitude', 'longitude']]"
   ]
  },
  {
   "cell_type": "code",
   "execution_count": 6,
   "metadata": {},
   "outputs": [],
   "source": [
    "dataSample = data.sample(100000)"
   ]
  },
  {
   "cell_type": "code",
   "execution_count": 8,
   "metadata": {},
   "outputs": [
    {
     "name": "stdout",
     "output_type": "stream",
     "text": [
      "CPU times: user 2min 24s, sys: 1.03 s, total: 2min 25s\n",
      "Wall time: 2min 25s\n"
     ]
    },
    {
     "data": {
      "text/plain": [
       "MeanShift(bandwidth=0.1, bin_seeding=False, cluster_all=True, min_bin_freq=1,\n",
       "          n_jobs=None, seeds=None)"
      ]
     },
     "execution_count": 8,
     "metadata": {},
     "output_type": "execute_result"
    }
   ],
   "source": [
    "%%time\n",
    "clusterisation = MeanShift(bandwidth=0.1)\n",
    "clusterisation.fit(dataSample)"
   ]
  },
  {
   "cell_type": "code",
   "execution_count": 9,
   "metadata": {},
   "outputs": [],
   "source": [
    "dataSample['Cluster'] = clusterisation.predict(dataSample)"
   ]
  },
  {
   "cell_type": "code",
   "execution_count": 14,
   "metadata": {},
   "outputs": [],
   "source": [
    "clusterSize = dataSample.pivot_table(index = 'Cluster', aggfunc = 'count', values = 'latitude')\n",
    "clusterSize.columns = ['size']"
   ]
  },
  {
   "cell_type": "code",
   "execution_count": 15,
   "metadata": {},
   "outputs": [],
   "source": [
    "clusterCenters = pd.DataFrame(clusterisation.cluster_centers_)\n",
    "clusterCenters.columns = ['cent_latitude', 'cent_longitude']"
   ]
  },
  {
   "cell_type": "code",
   "execution_count": 22,
   "metadata": {},
   "outputs": [],
   "source": [
    "clusterDf = clusterCenters.join(clusterSize)\n",
    "clusterDf = clusterDf[clusterDf['size']>15]"
   ]
  },
  {
   "cell_type": "code",
   "execution_count": 27,
   "metadata": {},
   "outputs": [],
   "source": [
    "def getDistance(lat1, lon1, lat2, lon2):\n",
    "    return ((lat1 - lat2)**2 + (lon1 - lon2)**2) ** 0.5\n",
    "\n",
    "officeCoordinates = [\n",
    "    (33.751277, -118.188740),\n",
    "    (25.867736, -80.324116),\n",
    "    (51.503016, -0.075479),\n",
    "    (52.378894, 4.885084),\n",
    "    (39.366487, 117.036146),\n",
    "    (-33.868457, 151.205134)\n",
    "]\n",
    "\n",
    "def getMinDistanceToOffice(lat, lon):\n",
    "    minDist = None\n",
    "    for (of_lat, of_lon) in officeCoordinates:\n",
    "        dist = getDistance(lat, lon, of_lat, of_lon)\n",
    "        if (minDist is None) or (dist < minDist):\n",
    "            minDist = dist\n",
    "    return minDist"
   ]
  },
  {
   "cell_type": "code",
   "execution_count": 32,
   "metadata": {},
   "outputs": [],
   "source": [
    "clusterDf['min_distance'] = list(map(getMinDistanceToOffice, clusterDf.cent_latitude, clusterDf.cent_longitude))"
   ]
  },
  {
   "cell_type": "code",
   "execution_count": 50,
   "metadata": {},
   "outputs": [
    {
     "data": {
      "text/plain": [
       "'-33.8658657862745'"
      ]
     },
     "execution_count": 50,
     "metadata": {},
     "output_type": "execute_result"
    }
   ],
   "source": [
    "answerData = clusterDf.sort_values('min_distance')[:1]\n",
    "answerLatitude = answerData['cent_latitude']\n",
    "answerLongitude = answerData['cent_longitude']\n",
    "ad = answerData[['cent_latitude', 'cent_longitude']].to_numpy()\n",
    "str(ad[0, 0])"
   ]
  },
  {
   "cell_type": "code",
   "execution_count": 51,
   "metadata": {},
   "outputs": [],
   "source": [
    "with open('answer.txt', 'w') as f:\n",
    "    f.write(str(ad[0, 0])+' '+str(ad[0, 1]))"
   ]
  },
  {
   "cell_type": "code",
   "execution_count": null,
   "metadata": {},
   "outputs": [],
   "source": []
  }
 ],
 "metadata": {
  "kernelspec": {
   "display_name": "Python 3",
   "language": "python",
   "name": "python3"
  },
  "language_info": {
   "codemirror_mode": {
    "name": "ipython",
    "version": 3
   },
   "file_extension": ".py",
   "mimetype": "text/x-python",
   "name": "python",
   "nbconvert_exporter": "python",
   "pygments_lexer": "ipython3",
   "version": "3.7.4"
  }
 },
 "nbformat": 4,
 "nbformat_minor": 2
}
