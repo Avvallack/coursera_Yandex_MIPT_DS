{
 "cells": [
  {
   "cell_type": "code",
   "execution_count": 83,
   "metadata": {},
   "outputs": [],
   "source": [
    "import numpy as np\n",
    "import pandas as pd \n",
    "from collections import Counter\n",
    "import operator"
   ]
  },
  {
   "cell_type": "code",
   "execution_count": 104,
   "metadata": {},
   "outputs": [],
   "source": [
    "with open('coursera_sessions_train.txt', 'r') as f:\n",
    "    sessions = f.read().splitlines()"
   ]
  },
  {
   "cell_type": "code",
   "execution_count": 105,
   "metadata": {},
   "outputs": [],
   "source": [
    "listed = []\n",
    "bought = []\n",
    "for item in sessions:\n",
    "    a, k = item.split(';')\n",
    "    listed.append(list(map(int, a.split(','))))\n",
    "    if len(k) >= 1:\n",
    "        bought.append(list(map(int, k.split(','))))\n",
    "    else: bought.append([])"
   ]
  },
  {
   "cell_type": "code",
   "execution_count": 111,
   "metadata": {},
   "outputs": [],
   "source": [
    "with open('coursera_sessions_test.txt', 'r') as f:\n",
    "    test_sessions = f.read().splitlines()\n",
    "listed_test = []\n",
    "bought_test = []\n",
    "for item in test_sessions:\n",
    "    a, k = item.split(';')\n",
    "    listed_test.append(list(map(int, a.split(','))))\n",
    "    if len(k) >= 1:\n",
    "        bought_test.append(list(map(int, k.split(','))))\n",
    "    else: bought.append([])"
   ]
  },
  {
   "cell_type": "code",
   "execution_count": 106,
   "metadata": {},
   "outputs": [],
   "source": [
    "looks_it = [item for row in listed for item in row ]\n",
    "bought_it =[item for row in bought for item in row]"
   ]
  },
  {
   "cell_type": "code",
   "execution_count": 107,
   "metadata": {},
   "outputs": [],
   "source": [
    "freq_list = Counter(looks_it)\n",
    "freq_bought = Counter(bought_it)"
   ]
  },
  {
   "cell_type": "code",
   "execution_count": 114,
   "metadata": {},
   "outputs": [
    {
     "data": {
      "text/plain": [
       "677"
      ]
     },
     "execution_count": 114,
     "metadata": {},
     "output_type": "execute_result"
    }
   ],
   "source": []
  },
  {
   "cell_type": "code",
   "execution_count": null,
   "metadata": {},
   "outputs": [],
   "source": [
    "def prec_rec_metrics(session, reccomendations, k):\n",
    "    purchase = 0\n",
    "    for ind in reccomendations:\n",
    "        if ind in session:\n",
    "            purchase += 1 \n",
    "    precision = purchase / k\n",
    "    recall = purchase / len(session)\n",
    "    return(precision, recall)"
   ]
  }
 ],
 "metadata": {
  "kernelspec": {
   "display_name": "Python 3",
   "language": "python",
   "name": "python3"
  },
  "language_info": {
   "codemirror_mode": {
    "name": "ipython",
    "version": 3
   },
   "file_extension": ".py",
   "mimetype": "text/x-python",
   "name": "python",
   "nbconvert_exporter": "python",
   "pygments_lexer": "ipython3",
   "version": "3.8.2"
  }
 },
 "nbformat": 4,
 "nbformat_minor": 4
}
