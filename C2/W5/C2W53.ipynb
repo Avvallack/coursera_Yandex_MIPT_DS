{
 "cells": [
  {
   "cell_type": "code",
   "execution_count": 4,
   "metadata": {},
   "outputs": [],
   "source": [
    "from sklearn import datasets\n",
    "from sklearn.ensemble import RandomForestClassifier\n",
    "import numpy as np\n",
    "import sys"
   ]
  },
  {
   "cell_type": "code",
   "execution_count": 5,
   "metadata": {},
   "outputs": [
    {
     "name": "stdout",
     "output_type": "stream",
     "text": [
      "['/Users/avvallack/Documents/coursera/C2/W5', '/Users/avvallack/anaconda3/lib/python37.zip', '/Users/avvallack/anaconda3/lib/python3.7', '/Users/avvallack/anaconda3/lib/python3.7/lib-dynload', '', '/Users/avvallack/anaconda3/lib/python3.7/site-packages', '/Users/avvallack/anaconda3/lib/python3.7/site-packages/aeosa', '/Users/avvallack/anaconda3/lib/python3.7/site-packages/IPython/extensions', '/Users/avvallack/.ipython']\n"
     ]
    }
   ],
   "source": [
    "print(sys.path)"
   ]
  },
  {
   "cell_type": "code",
   "execution_count": null,
   "metadata": {},
   "outputs": [],
   "source": []
  }
 ],
 "metadata": {
  "kernelspec": {
   "display_name": "Python 3",
   "language": "python",
   "name": "python3"
  },
  "language_info": {
   "codemirror_mode": {
    "name": "ipython",
    "version": 3
   },
   "file_extension": ".py",
   "mimetype": "text/x-python",
   "name": "python",
   "nbconvert_exporter": "python",
   "pygments_lexer": "ipython3",
   "version": "3.7.4"
  }
 },
 "nbformat": 4,
 "nbformat_minor": 2
}
