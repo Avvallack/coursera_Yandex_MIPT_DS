{
 "cells": [
  {
   "cell_type": "code",
   "execution_count": 12,
   "metadata": {},
   "outputs": [],
   "source": [
    "import sklearn.datasets\n",
    "import sklearn.naive_bayes as nb\n",
    "from sklearn.model_selection import cross_val_score as csv\n",
    "import numpy as np"
   ]
  },
  {
   "cell_type": "code",
   "execution_count": 26,
   "metadata": {},
   "outputs": [
    {
     "data": {
      "text/plain": [
       "array([[1.799e+01, 1.038e+01, 1.228e+02, ..., 2.654e-01, 4.601e-01,\n",
       "        1.189e-01],\n",
       "       [2.057e+01, 1.777e+01, 1.329e+02, ..., 1.860e-01, 2.750e-01,\n",
       "        8.902e-02],\n",
       "       [1.969e+01, 2.125e+01, 1.300e+02, ..., 2.430e-01, 3.613e-01,\n",
       "        8.758e-02],\n",
       "       ...,\n",
       "       [1.660e+01, 2.808e+01, 1.083e+02, ..., 1.418e-01, 2.218e-01,\n",
       "        7.820e-02],\n",
       "       [2.060e+01, 2.933e+01, 1.401e+02, ..., 2.650e-01, 4.087e-01,\n",
       "        1.240e-01],\n",
       "       [7.760e+00, 2.454e+01, 4.792e+01, ..., 0.000e+00, 2.871e-01,\n",
       "        7.039e-02]])"
      ]
     },
     "execution_count": 26,
     "metadata": {},
     "output_type": "execute_result"
    }
   ],
   "source": [
    "data = sklearn.datasets.load_digits()\n",
    "data2 = sklearn.datasets.load_breast_cancer()\n",
    "data2['data']"
   ]
  },
  {
   "cell_type": "code",
   "execution_count": 24,
   "metadata": {},
   "outputs": [],
   "source": [
    "### Bernoulli = nb.BernoulliNB()\n",
    "Multinomial = nb.MultinomialNB()\n",
    "Gaussian = nb.GaussianNB()\n",
    "\n",
    "Ber1= np.mean(csv(Bernoulli, data['data'], data['target'], cv=3))\n",
    "Mul1 = np.mean(csv(Multinomial, data['data'], data['target'], cv=3))\n",
    "Gaus1 = np.mean(csv(Gaussian, data['data'], data['target'], cv=3))\n",
    "\n",
    "Ber2 = np.mean(csv(Bernoulli, data2['data'], data2['target'], cv=3))\n",
    "Mul2 = np.mean(csv(Multinomial, data2['data'], data2['target'], cv=3))\n",
    "Gaus2 = np.mean(csv(Gaussian, data2['data'], data2['target'], cv=3))"
   ]
  },
  {
   "cell_type": "code",
   "execution_count": 25,
   "metadata": {},
   "outputs": [
    {
     "name": "stdout",
     "output_type": "stream",
     "text": [
      "0.8258236507780582 0.8708771489735053 0.8186003803550138\n",
      "0.6274204028589994 0.8945790401930752 0.9367492806089297\n"
     ]
    }
   ],
   "source": [
    "print(Ber1, Mul1, Gaus1)\n",
    "print(Ber2, Mul2, Gaus2)"
   ]
  },
  {
   "cell_type": "code",
   "execution_count": null,
   "metadata": {},
   "outputs": [],
   "source": []
  }
 ],
 "metadata": {
  "kernelspec": {
   "display_name": "Python 3",
   "language": "python",
   "name": "python3"
  },
  "language_info": {
   "codemirror_mode": {
    "name": "ipython",
    "version": 3
   },
   "file_extension": ".py",
   "mimetype": "text/x-python",
   "name": "python",
   "nbconvert_exporter": "python",
   "pygments_lexer": "ipython3",
   "version": "3.7.4"
  }
 },
 "nbformat": 4,
 "nbformat_minor": 2
}
